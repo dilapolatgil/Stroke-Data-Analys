{
 "cells": [
  {
   "cell_type": "markdown",
   "id": "d7b35d81",
   "metadata": {},
   "source": [
    "# Veri Seti Hakkında"
   ]
  },
  {
   "cell_type": "markdown",
   "id": "5e9ad40e",
   "metadata": {},
   "source": [
    "Dünya Sağlık Örgütü'ne (WHO) göre inme, küresel olarak toplam ölümlerin yaklaşık% 11'inden sorumlu olan 2. önde gelen ölüm nedenidir.\n",
    "Bu veri kümesi, bir hastanın cinsiyet, yaş, çeşitli hastalıklar ve sigara içme durumu gibi girdi parametrelerine dayanarak felç geçirme olasılığının olup olmadığını tahmin etmek için kullanılır. Verilerdeki her satır hasta hakkında anlamlı bilgiler sağlar."
   ]
  },
  {
   "cell_type": "markdown",
   "id": "32fc2bac",
   "metadata": {},
   "source": [
    "### Gerekli Kütüphanelerin İmport Edilmesi"
   ]
  },
  {
   "cell_type": "code",
   "execution_count": 1,
   "id": "f6a304ea",
   "metadata": {},
   "outputs": [],
   "source": [
    "import numpy as np\n",
    "import pandas as pd"
   ]
  },
  {
   "cell_type": "code",
   "execution_count": 2,
   "id": "b3e93c20",
   "metadata": {},
   "outputs": [],
   "source": [
    "veri = pd.read_excel(\"healthcare-dataset-stroke-data.xlsx\")"
   ]
  },
  {
   "cell_type": "markdown",
   "id": "f4eebf4b",
   "metadata": {},
   "source": [
    "## Verinin Kod İle Analizi"
   ]
  },
  {
   "cell_type": "code",
   "execution_count": 3,
   "id": "83bd839c",
   "metadata": {},
   "outputs": [
    {
     "data": {
      "text/html": [
       "<div>\n",
       "<style scoped>\n",
       "    .dataframe tbody tr th:only-of-type {\n",
       "        vertical-align: middle;\n",
       "    }\n",
       "\n",
       "    .dataframe tbody tr th {\n",
       "        vertical-align: top;\n",
       "    }\n",
       "\n",
       "    .dataframe thead th {\n",
       "        text-align: right;\n",
       "    }\n",
       "</style>\n",
       "<table border=\"1\" class=\"dataframe\">\n",
       "  <thead>\n",
       "    <tr style=\"text-align: right;\">\n",
       "      <th></th>\n",
       "      <th>id</th>\n",
       "      <th>gender</th>\n",
       "      <th>age</th>\n",
       "      <th>hypertension</th>\n",
       "      <th>heart_disease</th>\n",
       "      <th>ever_married</th>\n",
       "      <th>work_type</th>\n",
       "      <th>Residence_type</th>\n",
       "      <th>avg_glucose_level</th>\n",
       "      <th>bmi</th>\n",
       "      <th>smoking_status</th>\n",
       "      <th>stroke</th>\n",
       "    </tr>\n",
       "  </thead>\n",
       "  <tbody>\n",
       "    <tr>\n",
       "      <th>0</th>\n",
       "      <td>9046</td>\n",
       "      <td>Male</td>\n",
       "      <td>67.0</td>\n",
       "      <td>0</td>\n",
       "      <td>1</td>\n",
       "      <td>Yes</td>\n",
       "      <td>Private</td>\n",
       "      <td>Urban</td>\n",
       "      <td>228.69</td>\n",
       "      <td>36.6</td>\n",
       "      <td>formerly smoked</td>\n",
       "      <td>1</td>\n",
       "    </tr>\n",
       "    <tr>\n",
       "      <th>1</th>\n",
       "      <td>51676</td>\n",
       "      <td>Female</td>\n",
       "      <td>61.0</td>\n",
       "      <td>0</td>\n",
       "      <td>0</td>\n",
       "      <td>Yes</td>\n",
       "      <td>Self-employed</td>\n",
       "      <td>Rural</td>\n",
       "      <td>202.21</td>\n",
       "      <td>NaN</td>\n",
       "      <td>never smoked</td>\n",
       "      <td>1</td>\n",
       "    </tr>\n",
       "    <tr>\n",
       "      <th>2</th>\n",
       "      <td>31112</td>\n",
       "      <td>Male</td>\n",
       "      <td>80.0</td>\n",
       "      <td>0</td>\n",
       "      <td>1</td>\n",
       "      <td>Yes</td>\n",
       "      <td>Private</td>\n",
       "      <td>Rural</td>\n",
       "      <td>105.92</td>\n",
       "      <td>32.5</td>\n",
       "      <td>never smoked</td>\n",
       "      <td>1</td>\n",
       "    </tr>\n",
       "    <tr>\n",
       "      <th>3</th>\n",
       "      <td>60182</td>\n",
       "      <td>Female</td>\n",
       "      <td>49.0</td>\n",
       "      <td>0</td>\n",
       "      <td>0</td>\n",
       "      <td>Yes</td>\n",
       "      <td>Private</td>\n",
       "      <td>Urban</td>\n",
       "      <td>171.23</td>\n",
       "      <td>34.4</td>\n",
       "      <td>smokes</td>\n",
       "      <td>1</td>\n",
       "    </tr>\n",
       "    <tr>\n",
       "      <th>4</th>\n",
       "      <td>1665</td>\n",
       "      <td>Female</td>\n",
       "      <td>79.0</td>\n",
       "      <td>1</td>\n",
       "      <td>0</td>\n",
       "      <td>Yes</td>\n",
       "      <td>Self-employed</td>\n",
       "      <td>Rural</td>\n",
       "      <td>174.12</td>\n",
       "      <td>24.0</td>\n",
       "      <td>never smoked</td>\n",
       "      <td>1</td>\n",
       "    </tr>\n",
       "  </tbody>\n",
       "</table>\n",
       "</div>"
      ],
      "text/plain": [
       "      id  gender   age  hypertension  heart_disease ever_married  \\\n",
       "0   9046    Male  67.0             0              1          Yes   \n",
       "1  51676  Female  61.0             0              0          Yes   \n",
       "2  31112    Male  80.0             0              1          Yes   \n",
       "3  60182  Female  49.0             0              0          Yes   \n",
       "4   1665  Female  79.0             1              0          Yes   \n",
       "\n",
       "       work_type Residence_type  avg_glucose_level   bmi   smoking_status  \\\n",
       "0        Private          Urban             228.69  36.6  formerly smoked   \n",
       "1  Self-employed          Rural             202.21   NaN     never smoked   \n",
       "2        Private          Rural             105.92  32.5     never smoked   \n",
       "3        Private          Urban             171.23  34.4           smokes   \n",
       "4  Self-employed          Rural             174.12  24.0     never smoked   \n",
       "\n",
       "   stroke  \n",
       "0       1  \n",
       "1       1  \n",
       "2       1  \n",
       "3       1  \n",
       "4       1  "
      ]
     },
     "execution_count": 3,
     "metadata": {},
     "output_type": "execute_result"
    }
   ],
   "source": [
    "veri.head()"
   ]
  },
  {
   "cell_type": "code",
   "execution_count": 4,
   "id": "cd57dc38",
   "metadata": {},
   "outputs": [
    {
     "data": {
      "text/html": [
       "<div>\n",
       "<style scoped>\n",
       "    .dataframe tbody tr th:only-of-type {\n",
       "        vertical-align: middle;\n",
       "    }\n",
       "\n",
       "    .dataframe tbody tr th {\n",
       "        vertical-align: top;\n",
       "    }\n",
       "\n",
       "    .dataframe thead th {\n",
       "        text-align: right;\n",
       "    }\n",
       "</style>\n",
       "<table border=\"1\" class=\"dataframe\">\n",
       "  <thead>\n",
       "    <tr style=\"text-align: right;\">\n",
       "      <th></th>\n",
       "      <th>id</th>\n",
       "      <th>gender</th>\n",
       "      <th>age</th>\n",
       "      <th>hypertension</th>\n",
       "      <th>heart_disease</th>\n",
       "      <th>ever_married</th>\n",
       "      <th>work_type</th>\n",
       "      <th>Residence_type</th>\n",
       "      <th>avg_glucose_level</th>\n",
       "      <th>bmi</th>\n",
       "      <th>smoking_status</th>\n",
       "      <th>stroke</th>\n",
       "    </tr>\n",
       "  </thead>\n",
       "  <tbody>\n",
       "    <tr>\n",
       "      <th>5105</th>\n",
       "      <td>18234</td>\n",
       "      <td>Female</td>\n",
       "      <td>80.0</td>\n",
       "      <td>1</td>\n",
       "      <td>0</td>\n",
       "      <td>Yes</td>\n",
       "      <td>Private</td>\n",
       "      <td>Urban</td>\n",
       "      <td>83.75</td>\n",
       "      <td>NaN</td>\n",
       "      <td>never smoked</td>\n",
       "      <td>0</td>\n",
       "    </tr>\n",
       "    <tr>\n",
       "      <th>5106</th>\n",
       "      <td>44873</td>\n",
       "      <td>Female</td>\n",
       "      <td>81.0</td>\n",
       "      <td>0</td>\n",
       "      <td>0</td>\n",
       "      <td>Yes</td>\n",
       "      <td>Self-employed</td>\n",
       "      <td>Urban</td>\n",
       "      <td>125.20</td>\n",
       "      <td>40.0</td>\n",
       "      <td>never smoked</td>\n",
       "      <td>0</td>\n",
       "    </tr>\n",
       "    <tr>\n",
       "      <th>5107</th>\n",
       "      <td>19723</td>\n",
       "      <td>Female</td>\n",
       "      <td>35.0</td>\n",
       "      <td>0</td>\n",
       "      <td>0</td>\n",
       "      <td>Yes</td>\n",
       "      <td>Self-employed</td>\n",
       "      <td>Rural</td>\n",
       "      <td>82.99</td>\n",
       "      <td>30.6</td>\n",
       "      <td>never smoked</td>\n",
       "      <td>0</td>\n",
       "    </tr>\n",
       "    <tr>\n",
       "      <th>5108</th>\n",
       "      <td>37544</td>\n",
       "      <td>Male</td>\n",
       "      <td>51.0</td>\n",
       "      <td>0</td>\n",
       "      <td>0</td>\n",
       "      <td>Yes</td>\n",
       "      <td>Private</td>\n",
       "      <td>Rural</td>\n",
       "      <td>166.29</td>\n",
       "      <td>25.6</td>\n",
       "      <td>formerly smoked</td>\n",
       "      <td>0</td>\n",
       "    </tr>\n",
       "    <tr>\n",
       "      <th>5109</th>\n",
       "      <td>44679</td>\n",
       "      <td>Female</td>\n",
       "      <td>44.0</td>\n",
       "      <td>0</td>\n",
       "      <td>0</td>\n",
       "      <td>Yes</td>\n",
       "      <td>Govt_job</td>\n",
       "      <td>Urban</td>\n",
       "      <td>85.28</td>\n",
       "      <td>26.2</td>\n",
       "      <td>Unknown</td>\n",
       "      <td>0</td>\n",
       "    </tr>\n",
       "  </tbody>\n",
       "</table>\n",
       "</div>"
      ],
      "text/plain": [
       "         id  gender   age  hypertension  heart_disease ever_married  \\\n",
       "5105  18234  Female  80.0             1              0          Yes   \n",
       "5106  44873  Female  81.0             0              0          Yes   \n",
       "5107  19723  Female  35.0             0              0          Yes   \n",
       "5108  37544    Male  51.0             0              0          Yes   \n",
       "5109  44679  Female  44.0             0              0          Yes   \n",
       "\n",
       "          work_type Residence_type  avg_glucose_level   bmi   smoking_status  \\\n",
       "5105        Private          Urban              83.75   NaN     never smoked   \n",
       "5106  Self-employed          Urban             125.20  40.0     never smoked   \n",
       "5107  Self-employed          Rural              82.99  30.6     never smoked   \n",
       "5108        Private          Rural             166.29  25.6  formerly smoked   \n",
       "5109       Govt_job          Urban              85.28  26.2          Unknown   \n",
       "\n",
       "      stroke  \n",
       "5105       0  \n",
       "5106       0  \n",
       "5107       0  \n",
       "5108       0  \n",
       "5109       0  "
      ]
     },
     "execution_count": 4,
     "metadata": {},
     "output_type": "execute_result"
    }
   ],
   "source": [
    "veri.tail()"
   ]
  },
  {
   "cell_type": "code",
   "execution_count": 5,
   "id": "0ac6a80d",
   "metadata": {},
   "outputs": [
    {
     "data": {
      "text/plain": [
       "(5110, 12)"
      ]
     },
     "execution_count": 5,
     "metadata": {},
     "output_type": "execute_result"
    }
   ],
   "source": [
    "veri.shape"
   ]
  },
  {
   "cell_type": "code",
   "execution_count": 6,
   "id": "753c3839",
   "metadata": {},
   "outputs": [
    {
     "data": {
      "text/html": [
       "<div>\n",
       "<style scoped>\n",
       "    .dataframe tbody tr th:only-of-type {\n",
       "        vertical-align: middle;\n",
       "    }\n",
       "\n",
       "    .dataframe tbody tr th {\n",
       "        vertical-align: top;\n",
       "    }\n",
       "\n",
       "    .dataframe thead th {\n",
       "        text-align: right;\n",
       "    }\n",
       "</style>\n",
       "<table border=\"1\" class=\"dataframe\">\n",
       "  <thead>\n",
       "    <tr style=\"text-align: right;\">\n",
       "      <th></th>\n",
       "      <th>id</th>\n",
       "      <th>age</th>\n",
       "      <th>hypertension</th>\n",
       "      <th>heart_disease</th>\n",
       "      <th>avg_glucose_level</th>\n",
       "      <th>bmi</th>\n",
       "      <th>stroke</th>\n",
       "    </tr>\n",
       "  </thead>\n",
       "  <tbody>\n",
       "    <tr>\n",
       "      <th>count</th>\n",
       "      <td>5110.000000</td>\n",
       "      <td>5110.000000</td>\n",
       "      <td>5110.000000</td>\n",
       "      <td>5110.000000</td>\n",
       "      <td>5110.000000</td>\n",
       "      <td>4909.000000</td>\n",
       "      <td>5110.000000</td>\n",
       "    </tr>\n",
       "    <tr>\n",
       "      <th>mean</th>\n",
       "      <td>36517.829354</td>\n",
       "      <td>43.226614</td>\n",
       "      <td>0.097456</td>\n",
       "      <td>0.054012</td>\n",
       "      <td>106.147677</td>\n",
       "      <td>28.893237</td>\n",
       "      <td>0.048728</td>\n",
       "    </tr>\n",
       "    <tr>\n",
       "      <th>std</th>\n",
       "      <td>21161.721625</td>\n",
       "      <td>22.612647</td>\n",
       "      <td>0.296607</td>\n",
       "      <td>0.226063</td>\n",
       "      <td>45.283560</td>\n",
       "      <td>7.854067</td>\n",
       "      <td>0.215320</td>\n",
       "    </tr>\n",
       "    <tr>\n",
       "      <th>min</th>\n",
       "      <td>67.000000</td>\n",
       "      <td>0.080000</td>\n",
       "      <td>0.000000</td>\n",
       "      <td>0.000000</td>\n",
       "      <td>55.120000</td>\n",
       "      <td>10.300000</td>\n",
       "      <td>0.000000</td>\n",
       "    </tr>\n",
       "    <tr>\n",
       "      <th>25%</th>\n",
       "      <td>17741.250000</td>\n",
       "      <td>25.000000</td>\n",
       "      <td>0.000000</td>\n",
       "      <td>0.000000</td>\n",
       "      <td>77.245000</td>\n",
       "      <td>23.500000</td>\n",
       "      <td>0.000000</td>\n",
       "    </tr>\n",
       "    <tr>\n",
       "      <th>50%</th>\n",
       "      <td>36932.000000</td>\n",
       "      <td>45.000000</td>\n",
       "      <td>0.000000</td>\n",
       "      <td>0.000000</td>\n",
       "      <td>91.885000</td>\n",
       "      <td>28.100000</td>\n",
       "      <td>0.000000</td>\n",
       "    </tr>\n",
       "    <tr>\n",
       "      <th>75%</th>\n",
       "      <td>54682.000000</td>\n",
       "      <td>61.000000</td>\n",
       "      <td>0.000000</td>\n",
       "      <td>0.000000</td>\n",
       "      <td>114.090000</td>\n",
       "      <td>33.100000</td>\n",
       "      <td>0.000000</td>\n",
       "    </tr>\n",
       "    <tr>\n",
       "      <th>max</th>\n",
       "      <td>72940.000000</td>\n",
       "      <td>82.000000</td>\n",
       "      <td>1.000000</td>\n",
       "      <td>1.000000</td>\n",
       "      <td>271.740000</td>\n",
       "      <td>97.600000</td>\n",
       "      <td>1.000000</td>\n",
       "    </tr>\n",
       "  </tbody>\n",
       "</table>\n",
       "</div>"
      ],
      "text/plain": [
       "                 id          age  hypertension  heart_disease  \\\n",
       "count   5110.000000  5110.000000   5110.000000    5110.000000   \n",
       "mean   36517.829354    43.226614      0.097456       0.054012   \n",
       "std    21161.721625    22.612647      0.296607       0.226063   \n",
       "min       67.000000     0.080000      0.000000       0.000000   \n",
       "25%    17741.250000    25.000000      0.000000       0.000000   \n",
       "50%    36932.000000    45.000000      0.000000       0.000000   \n",
       "75%    54682.000000    61.000000      0.000000       0.000000   \n",
       "max    72940.000000    82.000000      1.000000       1.000000   \n",
       "\n",
       "       avg_glucose_level          bmi       stroke  \n",
       "count        5110.000000  4909.000000  5110.000000  \n",
       "mean          106.147677    28.893237     0.048728  \n",
       "std            45.283560     7.854067     0.215320  \n",
       "min            55.120000    10.300000     0.000000  \n",
       "25%            77.245000    23.500000     0.000000  \n",
       "50%            91.885000    28.100000     0.000000  \n",
       "75%           114.090000    33.100000     0.000000  \n",
       "max           271.740000    97.600000     1.000000  "
      ]
     },
     "execution_count": 6,
     "metadata": {},
     "output_type": "execute_result"
    }
   ],
   "source": [
    "veri.describe()"
   ]
  },
  {
   "cell_type": "code",
   "execution_count": 7,
   "id": "5edc77e0",
   "metadata": {},
   "outputs": [
    {
     "name": "stdout",
     "output_type": "stream",
     "text": [
      "<class 'pandas.core.frame.DataFrame'>\n",
      "RangeIndex: 5110 entries, 0 to 5109\n",
      "Data columns (total 12 columns):\n",
      " #   Column             Non-Null Count  Dtype  \n",
      "---  ------             --------------  -----  \n",
      " 0   id                 5110 non-null   int64  \n",
      " 1   gender             5110 non-null   object \n",
      " 2   age                5110 non-null   float64\n",
      " 3   hypertension       5110 non-null   int64  \n",
      " 4   heart_disease      5110 non-null   int64  \n",
      " 5   ever_married       5110 non-null   object \n",
      " 6   work_type          5110 non-null   object \n",
      " 7   Residence_type     5110 non-null   object \n",
      " 8   avg_glucose_level  5110 non-null   float64\n",
      " 9   bmi                4909 non-null   float64\n",
      " 10  smoking_status     5110 non-null   object \n",
      " 11  stroke             5110 non-null   int64  \n",
      "dtypes: float64(3), int64(4), object(5)\n",
      "memory usage: 479.2+ KB\n"
     ]
    }
   ],
   "source": [
    "veri.info()"
   ]
  },
  {
   "cell_type": "markdown",
   "id": "867bde03",
   "metadata": {},
   "source": [
    "## Unknown Satırların Silinmesi"
   ]
  },
  {
   "cell_type": "markdown",
   "id": "82806e41",
   "metadata": {},
   "source": [
    "Not: Bu veri setinde smoking_status özelliğinde çok fazla ‘unknown’ yani bilinmeyen var. \n",
    "smoking_status’u unknown olan satırları veriden silin. "
   ]
  },
  {
   "cell_type": "code",
   "execution_count": 8,
   "id": "69c82ec0",
   "metadata": {},
   "outputs": [],
   "source": [
    "veri = veri.drop(veri[veri['smoking_status'] == 'Unknown'].index).reset_index(drop=True)"
   ]
  },
  {
   "cell_type": "code",
   "execution_count": 9,
   "id": "19688f42",
   "metadata": {},
   "outputs": [
    {
     "data": {
      "text/html": [
       "<div>\n",
       "<style scoped>\n",
       "    .dataframe tbody tr th:only-of-type {\n",
       "        vertical-align: middle;\n",
       "    }\n",
       "\n",
       "    .dataframe tbody tr th {\n",
       "        vertical-align: top;\n",
       "    }\n",
       "\n",
       "    .dataframe thead th {\n",
       "        text-align: right;\n",
       "    }\n",
       "</style>\n",
       "<table border=\"1\" class=\"dataframe\">\n",
       "  <thead>\n",
       "    <tr style=\"text-align: right;\">\n",
       "      <th></th>\n",
       "      <th>id</th>\n",
       "      <th>gender</th>\n",
       "      <th>age</th>\n",
       "      <th>hypertension</th>\n",
       "      <th>heart_disease</th>\n",
       "      <th>ever_married</th>\n",
       "      <th>work_type</th>\n",
       "      <th>Residence_type</th>\n",
       "      <th>avg_glucose_level</th>\n",
       "      <th>bmi</th>\n",
       "      <th>smoking_status</th>\n",
       "      <th>stroke</th>\n",
       "    </tr>\n",
       "  </thead>\n",
       "  <tbody>\n",
       "    <tr>\n",
       "      <th>3561</th>\n",
       "      <td>45010</td>\n",
       "      <td>Female</td>\n",
       "      <td>57.0</td>\n",
       "      <td>0</td>\n",
       "      <td>0</td>\n",
       "      <td>Yes</td>\n",
       "      <td>Private</td>\n",
       "      <td>Rural</td>\n",
       "      <td>77.93</td>\n",
       "      <td>21.7</td>\n",
       "      <td>never smoked</td>\n",
       "      <td>0</td>\n",
       "    </tr>\n",
       "    <tr>\n",
       "      <th>3562</th>\n",
       "      <td>18234</td>\n",
       "      <td>Female</td>\n",
       "      <td>80.0</td>\n",
       "      <td>1</td>\n",
       "      <td>0</td>\n",
       "      <td>Yes</td>\n",
       "      <td>Private</td>\n",
       "      <td>Urban</td>\n",
       "      <td>83.75</td>\n",
       "      <td>NaN</td>\n",
       "      <td>never smoked</td>\n",
       "      <td>0</td>\n",
       "    </tr>\n",
       "    <tr>\n",
       "      <th>3563</th>\n",
       "      <td>44873</td>\n",
       "      <td>Female</td>\n",
       "      <td>81.0</td>\n",
       "      <td>0</td>\n",
       "      <td>0</td>\n",
       "      <td>Yes</td>\n",
       "      <td>Self-employed</td>\n",
       "      <td>Urban</td>\n",
       "      <td>125.20</td>\n",
       "      <td>40.0</td>\n",
       "      <td>never smoked</td>\n",
       "      <td>0</td>\n",
       "    </tr>\n",
       "    <tr>\n",
       "      <th>3564</th>\n",
       "      <td>19723</td>\n",
       "      <td>Female</td>\n",
       "      <td>35.0</td>\n",
       "      <td>0</td>\n",
       "      <td>0</td>\n",
       "      <td>Yes</td>\n",
       "      <td>Self-employed</td>\n",
       "      <td>Rural</td>\n",
       "      <td>82.99</td>\n",
       "      <td>30.6</td>\n",
       "      <td>never smoked</td>\n",
       "      <td>0</td>\n",
       "    </tr>\n",
       "    <tr>\n",
       "      <th>3565</th>\n",
       "      <td>37544</td>\n",
       "      <td>Male</td>\n",
       "      <td>51.0</td>\n",
       "      <td>0</td>\n",
       "      <td>0</td>\n",
       "      <td>Yes</td>\n",
       "      <td>Private</td>\n",
       "      <td>Rural</td>\n",
       "      <td>166.29</td>\n",
       "      <td>25.6</td>\n",
       "      <td>formerly smoked</td>\n",
       "      <td>0</td>\n",
       "    </tr>\n",
       "  </tbody>\n",
       "</table>\n",
       "</div>"
      ],
      "text/plain": [
       "         id  gender   age  hypertension  heart_disease ever_married  \\\n",
       "3561  45010  Female  57.0             0              0          Yes   \n",
       "3562  18234  Female  80.0             1              0          Yes   \n",
       "3563  44873  Female  81.0             0              0          Yes   \n",
       "3564  19723  Female  35.0             0              0          Yes   \n",
       "3565  37544    Male  51.0             0              0          Yes   \n",
       "\n",
       "          work_type Residence_type  avg_glucose_level   bmi   smoking_status  \\\n",
       "3561        Private          Rural              77.93  21.7     never smoked   \n",
       "3562        Private          Urban              83.75   NaN     never smoked   \n",
       "3563  Self-employed          Urban             125.20  40.0     never smoked   \n",
       "3564  Self-employed          Rural              82.99  30.6     never smoked   \n",
       "3565        Private          Rural             166.29  25.6  formerly smoked   \n",
       "\n",
       "      stroke  \n",
       "3561       0  \n",
       "3562       0  \n",
       "3563       0  \n",
       "3564       0  \n",
       "3565       0  "
      ]
     },
     "execution_count": 9,
     "metadata": {},
     "output_type": "execute_result"
    }
   ],
   "source": [
    "veri.tail()"
   ]
  },
  {
   "cell_type": "markdown",
   "id": "3b8aae93",
   "metadata": {},
   "source": [
    "# ORTAK GÖRVLER"
   ]
  },
  {
   "cell_type": "markdown",
   "id": "8f29f4a1",
   "metadata": {},
   "source": [
    "### O1. Verideki sözel (kategorik) tipteki özellikleri sayısallaştırın. Bunu yaparken özelliğin tipine uygun davranın. Eğer unique değerler arasında bir sıralama mevcutsa bu değerleri 0,1,2,3,… şeklinde; mevcut değilse bu değerleri one-hot encoding şeklinde sayısallaştırın (10p)."
   ]
  },
  {
   "cell_type": "markdown",
   "id": "8f6d5f1e",
   "metadata": {},
   "source": [
    "Veride elimizde bazı kategorik sütunlar ileriki görevlerde işimize yaramayacakları için silinecektir. O yüzden bu görevde sadece ileride kullanılacak olan sütunlar sayısallaştırılacaktır"
   ]
  },
  {
   "cell_type": "markdown",
   "id": "a54dd4bd",
   "metadata": {},
   "source": [
    "### GENDER Sütunu"
   ]
  },
  {
   "cell_type": "code",
   "execution_count": 10,
   "id": "b52d1e06",
   "metadata": {},
   "outputs": [
    {
     "data": {
      "text/plain": [
       "array(['Male', 'Female', 'Other'], dtype=object)"
      ]
     },
     "execution_count": 10,
     "metadata": {},
     "output_type": "execute_result"
    }
   ],
   "source": [
    "# Sütunda bulunan değerlere bakıldı\n",
    "veri['gender'].unique()"
   ]
  },
  {
   "cell_type": "code",
   "execution_count": 11,
   "id": "92f03b28",
   "metadata": {},
   "outputs": [],
   "source": [
    "# Veride her bir değerden kaç tane bulunduğuna bakıldı.\n",
    "female = veri['gender'].eq('Female').sum()\n",
    "male = veri['gender'].eq('Male').sum()\n",
    "other = veri['gender'].eq('Other').sum()"
   ]
  },
  {
   "cell_type": "code",
   "execution_count": 12,
   "id": "db5bede0",
   "metadata": {},
   "outputs": [
    {
     "name": "stdout",
     "output_type": "stream",
     "text": [
      " Female sayısı: 2158\n",
      " Male sayısı: 1407\n",
      " Other sayısı: 1\n"
     ]
    }
   ],
   "source": [
    "print(f\" Female sayısı: {female}\")\n",
    "print(f\" Male sayısı: {male}\")\n",
    "print(f\" Other sayısı: {other}\")"
   ]
  },
  {
   "cell_type": "code",
   "execution_count": 13,
   "id": "c247ce8d",
   "metadata": {},
   "outputs": [],
   "source": [
    "# Sadece bir tane 'Other' değeri olduğu için veriden silindi.\n",
    "veri.drop(veri[veri['gender'] == 'Other'].index,inplace=True)"
   ]
  },
  {
   "cell_type": "code",
   "execution_count": 14,
   "id": "3839ef6d",
   "metadata": {},
   "outputs": [
    {
     "name": "stdout",
     "output_type": "stream",
     "text": [
      " Other sayısı: 0\n"
     ]
    }
   ],
   "source": [
    "# Other sayısı kontrol edildi.\n",
    "other = veri['gender'].eq('Other').sum()\n",
    "print(f\" Other sayısı: {other}\")"
   ]
  },
  {
   "cell_type": "code",
   "execution_count": 15,
   "id": "f9bd1584",
   "metadata": {},
   "outputs": [],
   "source": [
    "Gender = pd.DataFrame()\n",
    "\n",
    "# 'Male' durumunu temsil eden sütun eklendi\n",
    "Gender['male'] = (veri['gender'] == 'Male').astype(int)\n",
    "\n",
    "# 'Female' durumunu temsil eden sütun eklendi\n",
    "Gender['female'] = (veri['gender'] == 'Female').astype(int)\n",
    "\n",
    "# Orijinal DataFrame'e yeni sütunları eklendi\n",
    "veri = pd.concat([veri, Gender], axis=1)\n",
    "\n",
    "# 'gender' sütunu silindi\n",
    "veri.drop('gender', axis=1, inplace=True)"
   ]
  },
  {
   "cell_type": "code",
   "execution_count": 16,
   "id": "b46df820",
   "metadata": {},
   "outputs": [
    {
     "data": {
      "text/html": [
       "<div>\n",
       "<style scoped>\n",
       "    .dataframe tbody tr th:only-of-type {\n",
       "        vertical-align: middle;\n",
       "    }\n",
       "\n",
       "    .dataframe tbody tr th {\n",
       "        vertical-align: top;\n",
       "    }\n",
       "\n",
       "    .dataframe thead th {\n",
       "        text-align: right;\n",
       "    }\n",
       "</style>\n",
       "<table border=\"1\" class=\"dataframe\">\n",
       "  <thead>\n",
       "    <tr style=\"text-align: right;\">\n",
       "      <th></th>\n",
       "      <th>id</th>\n",
       "      <th>age</th>\n",
       "      <th>hypertension</th>\n",
       "      <th>heart_disease</th>\n",
       "      <th>ever_married</th>\n",
       "      <th>work_type</th>\n",
       "      <th>Residence_type</th>\n",
       "      <th>avg_glucose_level</th>\n",
       "      <th>bmi</th>\n",
       "      <th>smoking_status</th>\n",
       "      <th>stroke</th>\n",
       "      <th>male</th>\n",
       "      <th>female</th>\n",
       "    </tr>\n",
       "  </thead>\n",
       "  <tbody>\n",
       "    <tr>\n",
       "      <th>0</th>\n",
       "      <td>9046</td>\n",
       "      <td>67.0</td>\n",
       "      <td>0</td>\n",
       "      <td>1</td>\n",
       "      <td>Yes</td>\n",
       "      <td>Private</td>\n",
       "      <td>Urban</td>\n",
       "      <td>228.69</td>\n",
       "      <td>36.6</td>\n",
       "      <td>formerly smoked</td>\n",
       "      <td>1</td>\n",
       "      <td>1</td>\n",
       "      <td>0</td>\n",
       "    </tr>\n",
       "    <tr>\n",
       "      <th>1</th>\n",
       "      <td>51676</td>\n",
       "      <td>61.0</td>\n",
       "      <td>0</td>\n",
       "      <td>0</td>\n",
       "      <td>Yes</td>\n",
       "      <td>Self-employed</td>\n",
       "      <td>Rural</td>\n",
       "      <td>202.21</td>\n",
       "      <td>NaN</td>\n",
       "      <td>never smoked</td>\n",
       "      <td>1</td>\n",
       "      <td>0</td>\n",
       "      <td>1</td>\n",
       "    </tr>\n",
       "    <tr>\n",
       "      <th>2</th>\n",
       "      <td>31112</td>\n",
       "      <td>80.0</td>\n",
       "      <td>0</td>\n",
       "      <td>1</td>\n",
       "      <td>Yes</td>\n",
       "      <td>Private</td>\n",
       "      <td>Rural</td>\n",
       "      <td>105.92</td>\n",
       "      <td>32.5</td>\n",
       "      <td>never smoked</td>\n",
       "      <td>1</td>\n",
       "      <td>1</td>\n",
       "      <td>0</td>\n",
       "    </tr>\n",
       "    <tr>\n",
       "      <th>3</th>\n",
       "      <td>60182</td>\n",
       "      <td>49.0</td>\n",
       "      <td>0</td>\n",
       "      <td>0</td>\n",
       "      <td>Yes</td>\n",
       "      <td>Private</td>\n",
       "      <td>Urban</td>\n",
       "      <td>171.23</td>\n",
       "      <td>34.4</td>\n",
       "      <td>smokes</td>\n",
       "      <td>1</td>\n",
       "      <td>0</td>\n",
       "      <td>1</td>\n",
       "    </tr>\n",
       "    <tr>\n",
       "      <th>4</th>\n",
       "      <td>1665</td>\n",
       "      <td>79.0</td>\n",
       "      <td>1</td>\n",
       "      <td>0</td>\n",
       "      <td>Yes</td>\n",
       "      <td>Self-employed</td>\n",
       "      <td>Rural</td>\n",
       "      <td>174.12</td>\n",
       "      <td>24.0</td>\n",
       "      <td>never smoked</td>\n",
       "      <td>1</td>\n",
       "      <td>0</td>\n",
       "      <td>1</td>\n",
       "    </tr>\n",
       "  </tbody>\n",
       "</table>\n",
       "</div>"
      ],
      "text/plain": [
       "      id   age  hypertension  heart_disease ever_married      work_type  \\\n",
       "0   9046  67.0             0              1          Yes        Private   \n",
       "1  51676  61.0             0              0          Yes  Self-employed   \n",
       "2  31112  80.0             0              1          Yes        Private   \n",
       "3  60182  49.0             0              0          Yes        Private   \n",
       "4   1665  79.0             1              0          Yes  Self-employed   \n",
       "\n",
       "  Residence_type  avg_glucose_level   bmi   smoking_status  stroke  male  \\\n",
       "0          Urban             228.69  36.6  formerly smoked       1     1   \n",
       "1          Rural             202.21   NaN     never smoked       1     0   \n",
       "2          Rural             105.92  32.5     never smoked       1     1   \n",
       "3          Urban             171.23  34.4           smokes       1     0   \n",
       "4          Rural             174.12  24.0     never smoked       1     0   \n",
       "\n",
       "   female  \n",
       "0       0  \n",
       "1       1  \n",
       "2       0  \n",
       "3       1  \n",
       "4       1  "
      ]
     },
     "execution_count": 16,
     "metadata": {},
     "output_type": "execute_result"
    }
   ],
   "source": [
    "veri.head()"
   ]
  },
  {
   "cell_type": "markdown",
   "id": "9a31db32",
   "metadata": {},
   "source": [
    "### SMOKİNG_STATUS kolonu"
   ]
  },
  {
   "cell_type": "code",
   "execution_count": 17,
   "id": "a995bb48",
   "metadata": {},
   "outputs": [
    {
     "data": {
      "text/plain": [
       "array(['formerly smoked', 'never smoked', 'smokes'], dtype=object)"
      ]
     },
     "execution_count": 17,
     "metadata": {},
     "output_type": "execute_result"
    }
   ],
   "source": [
    "# smoking_status kolonunda bulunan değerler\n",
    "veri['smoking_status'].unique()"
   ]
  },
  {
   "cell_type": "code",
   "execution_count": 18,
   "id": "27fa7ec9",
   "metadata": {},
   "outputs": [],
   "source": [
    "smokingstatus = pd.DataFrame()\n",
    "# 'never smoked' durumunu temsil eden sütun eklendi\n",
    "smokingstatus['never_moked'] = (veri['smoking_status'] == 'never smoked').astype(int)\n",
    "\n",
    "# 'formerly smoked' durumunu temsil eden sütun eklendi\n",
    "smokingstatus['formerly_smoked'] = (veri['smoking_status'] == 'formerly smoked').astype(int)\n",
    "\n",
    "# 'smoking' durumunu temsil eden sütun eklendi\n",
    "smokingstatus['smokes'] = (veri['smoking_status'] == 'smokes').astype(int)\n",
    "\n",
    "# Orijinal DataFrame'e yeni sütunları eklendi.\n",
    "veri = pd.concat([veri, smokingstatus], axis=1)\n",
    "\n",
    "# 'smoking_status' sütununu silindi\n",
    "veri.drop('smoking_status', axis=1, inplace=True)"
   ]
  },
  {
   "cell_type": "code",
   "execution_count": 19,
   "id": "0ed40050",
   "metadata": {},
   "outputs": [
    {
     "data": {
      "text/html": [
       "<div>\n",
       "<style scoped>\n",
       "    .dataframe tbody tr th:only-of-type {\n",
       "        vertical-align: middle;\n",
       "    }\n",
       "\n",
       "    .dataframe tbody tr th {\n",
       "        vertical-align: top;\n",
       "    }\n",
       "\n",
       "    .dataframe thead th {\n",
       "        text-align: right;\n",
       "    }\n",
       "</style>\n",
       "<table border=\"1\" class=\"dataframe\">\n",
       "  <thead>\n",
       "    <tr style=\"text-align: right;\">\n",
       "      <th></th>\n",
       "      <th>id</th>\n",
       "      <th>age</th>\n",
       "      <th>hypertension</th>\n",
       "      <th>heart_disease</th>\n",
       "      <th>ever_married</th>\n",
       "      <th>work_type</th>\n",
       "      <th>Residence_type</th>\n",
       "      <th>avg_glucose_level</th>\n",
       "      <th>bmi</th>\n",
       "      <th>stroke</th>\n",
       "      <th>male</th>\n",
       "      <th>female</th>\n",
       "      <th>never_moked</th>\n",
       "      <th>formerly_smoked</th>\n",
       "      <th>smokes</th>\n",
       "    </tr>\n",
       "  </thead>\n",
       "  <tbody>\n",
       "    <tr>\n",
       "      <th>0</th>\n",
       "      <td>9046</td>\n",
       "      <td>67.0</td>\n",
       "      <td>0</td>\n",
       "      <td>1</td>\n",
       "      <td>Yes</td>\n",
       "      <td>Private</td>\n",
       "      <td>Urban</td>\n",
       "      <td>228.69</td>\n",
       "      <td>36.6</td>\n",
       "      <td>1</td>\n",
       "      <td>1</td>\n",
       "      <td>0</td>\n",
       "      <td>0</td>\n",
       "      <td>1</td>\n",
       "      <td>0</td>\n",
       "    </tr>\n",
       "    <tr>\n",
       "      <th>1</th>\n",
       "      <td>51676</td>\n",
       "      <td>61.0</td>\n",
       "      <td>0</td>\n",
       "      <td>0</td>\n",
       "      <td>Yes</td>\n",
       "      <td>Self-employed</td>\n",
       "      <td>Rural</td>\n",
       "      <td>202.21</td>\n",
       "      <td>NaN</td>\n",
       "      <td>1</td>\n",
       "      <td>0</td>\n",
       "      <td>1</td>\n",
       "      <td>1</td>\n",
       "      <td>0</td>\n",
       "      <td>0</td>\n",
       "    </tr>\n",
       "    <tr>\n",
       "      <th>2</th>\n",
       "      <td>31112</td>\n",
       "      <td>80.0</td>\n",
       "      <td>0</td>\n",
       "      <td>1</td>\n",
       "      <td>Yes</td>\n",
       "      <td>Private</td>\n",
       "      <td>Rural</td>\n",
       "      <td>105.92</td>\n",
       "      <td>32.5</td>\n",
       "      <td>1</td>\n",
       "      <td>1</td>\n",
       "      <td>0</td>\n",
       "      <td>1</td>\n",
       "      <td>0</td>\n",
       "      <td>0</td>\n",
       "    </tr>\n",
       "    <tr>\n",
       "      <th>3</th>\n",
       "      <td>60182</td>\n",
       "      <td>49.0</td>\n",
       "      <td>0</td>\n",
       "      <td>0</td>\n",
       "      <td>Yes</td>\n",
       "      <td>Private</td>\n",
       "      <td>Urban</td>\n",
       "      <td>171.23</td>\n",
       "      <td>34.4</td>\n",
       "      <td>1</td>\n",
       "      <td>0</td>\n",
       "      <td>1</td>\n",
       "      <td>0</td>\n",
       "      <td>0</td>\n",
       "      <td>1</td>\n",
       "    </tr>\n",
       "    <tr>\n",
       "      <th>4</th>\n",
       "      <td>1665</td>\n",
       "      <td>79.0</td>\n",
       "      <td>1</td>\n",
       "      <td>0</td>\n",
       "      <td>Yes</td>\n",
       "      <td>Self-employed</td>\n",
       "      <td>Rural</td>\n",
       "      <td>174.12</td>\n",
       "      <td>24.0</td>\n",
       "      <td>1</td>\n",
       "      <td>0</td>\n",
       "      <td>1</td>\n",
       "      <td>1</td>\n",
       "      <td>0</td>\n",
       "      <td>0</td>\n",
       "    </tr>\n",
       "  </tbody>\n",
       "</table>\n",
       "</div>"
      ],
      "text/plain": [
       "      id   age  hypertension  heart_disease ever_married      work_type  \\\n",
       "0   9046  67.0             0              1          Yes        Private   \n",
       "1  51676  61.0             0              0          Yes  Self-employed   \n",
       "2  31112  80.0             0              1          Yes        Private   \n",
       "3  60182  49.0             0              0          Yes        Private   \n",
       "4   1665  79.0             1              0          Yes  Self-employed   \n",
       "\n",
       "  Residence_type  avg_glucose_level   bmi  stroke  male  female  never_moked  \\\n",
       "0          Urban             228.69  36.6       1     1       0            0   \n",
       "1          Rural             202.21   NaN       1     0       1            1   \n",
       "2          Rural             105.92  32.5       1     1       0            1   \n",
       "3          Urban             171.23  34.4       1     0       1            0   \n",
       "4          Rural             174.12  24.0       1     0       1            1   \n",
       "\n",
       "   formerly_smoked  smokes  \n",
       "0                1       0  \n",
       "1                0       0  \n",
       "2                0       0  \n",
       "3                0       1  \n",
       "4                0       0  "
      ]
     },
     "execution_count": 19,
     "metadata": {},
     "output_type": "execute_result"
    }
   ],
   "source": [
    "veri.head()"
   ]
  },
  {
   "cell_type": "markdown",
   "id": "ffe5362f",
   "metadata": {},
   "source": [
    "### O2. Verideki boş değerleri ait olduğu kolonda en çok görülen değer ile doldurun (5p)."
   ]
  },
  {
   "cell_type": "code",
   "execution_count": 20,
   "id": "cd9be138",
   "metadata": {},
   "outputs": [
    {
     "data": {
      "text/plain": [
       "id                     0\n",
       "age                    0\n",
       "hypertension           0\n",
       "heart_disease          0\n",
       "ever_married           0\n",
       "work_type              0\n",
       "Residence_type         0\n",
       "avg_glucose_level      0\n",
       "bmi                  140\n",
       "stroke                 0\n",
       "male                   0\n",
       "female                 0\n",
       "never_moked            0\n",
       "formerly_smoked        0\n",
       "smokes                 0\n",
       "dtype: int64"
      ]
     },
     "execution_count": 20,
     "metadata": {},
     "output_type": "execute_result"
    }
   ],
   "source": [
    "# Veride boş değer olup olmadığı kontrol edildi.\n",
    "veri.isnull().sum()"
   ]
  },
  {
   "cell_type": "code",
   "execution_count": 21,
   "id": "5cb94bc0",
   "metadata": {},
   "outputs": [],
   "source": [
    "# Sadece 'bmi' sütunu ile ilgilenildi.\n",
    "# Boş değerler moduna göre dolduruldu.\n",
    "bmi_mode = veri['bmi'].mode()[0] \n",
    "veri['bmi'].fillna(bmi_mode, inplace=True)"
   ]
  },
  {
   "cell_type": "code",
   "execution_count": 22,
   "id": "2d0e56f9",
   "metadata": {},
   "outputs": [
    {
     "data": {
      "text/plain": [
       "id                   0\n",
       "age                  0\n",
       "hypertension         0\n",
       "heart_disease        0\n",
       "ever_married         0\n",
       "work_type            0\n",
       "Residence_type       0\n",
       "avg_glucose_level    0\n",
       "bmi                  0\n",
       "stroke               0\n",
       "male                 0\n",
       "female               0\n",
       "never_moked          0\n",
       "formerly_smoked      0\n",
       "smokes               0\n",
       "dtype: int64"
      ]
     },
     "execution_count": 22,
     "metadata": {},
     "output_type": "execute_result"
    }
   ],
   "source": [
    "# Boş değerler tekrar kontrol edildi.\n",
    "veri.isnull().sum()"
   ]
  },
  {
   "cell_type": "markdown",
   "id": "cefbc934",
   "metadata": {},
   "source": [
    "### O3. Veride elinizdeki sınıflandırma görevi ile alakası olmadığını düşündüğünüz kolonlari veriden silin. Bunu yaparken sildiğiniz kolonun neden alakasız olduğunu belirtiniz (5p)"
   ]
  },
  {
   "cell_type": "markdown",
   "id": "00b0fcdf",
   "metadata": {},
   "source": [
    "#### SİLENEN KOLONLAR VE NEDENLERİ\n",
    "##### İD = 'id' kolonunun amacı veride kayıtlı olan hastalara sayısal değerler vererek her birini tutmaktır. İleriki görevlerde 'id' ile ilgilenmeyeceğimiz için veriden sildik.\n",
    "##### EVER MARRİED = Hastanın evlilik durumunun felç ile doğrudan bir ilgisi yoktur bu yüzden veriden silindi.\n",
    "##### WORK TYPE = İş durumu normal zamanda felci etkileyebilir fakat elimizdeki veride iş durumları ile milgili ayrıntılı bilgi bulunmadığı için veriden silindi.\n",
    "##### RESİDENCE TYPE = Konut tipinin felç ile bir ilgisi yoktur bu yüzden veriden çıkarıldı."
   ]
  },
  {
   "cell_type": "code",
   "execution_count": 23,
   "id": "0ebf9925",
   "metadata": {},
   "outputs": [],
   "source": [
    "veri.drop(\"Residence_type\",axis=1,inplace=True)\n",
    "veri.drop(\"ever_married\",axis=1,inplace=True)\n",
    "veri.drop(\"id\",axis=1,inplace=True)\n",
    "veri.drop(\"work_type\",axis=1,inplace=True)"
   ]
  },
  {
   "cell_type": "code",
   "execution_count": 24,
   "id": "2e4f8297",
   "metadata": {},
   "outputs": [
    {
     "data": {
      "text/html": [
       "<div>\n",
       "<style scoped>\n",
       "    .dataframe tbody tr th:only-of-type {\n",
       "        vertical-align: middle;\n",
       "    }\n",
       "\n",
       "    .dataframe tbody tr th {\n",
       "        vertical-align: top;\n",
       "    }\n",
       "\n",
       "    .dataframe thead th {\n",
       "        text-align: right;\n",
       "    }\n",
       "</style>\n",
       "<table border=\"1\" class=\"dataframe\">\n",
       "  <thead>\n",
       "    <tr style=\"text-align: right;\">\n",
       "      <th></th>\n",
       "      <th>age</th>\n",
       "      <th>hypertension</th>\n",
       "      <th>heart_disease</th>\n",
       "      <th>avg_glucose_level</th>\n",
       "      <th>bmi</th>\n",
       "      <th>stroke</th>\n",
       "      <th>male</th>\n",
       "      <th>female</th>\n",
       "      <th>never_moked</th>\n",
       "      <th>formerly_smoked</th>\n",
       "      <th>smokes</th>\n",
       "    </tr>\n",
       "  </thead>\n",
       "  <tbody>\n",
       "    <tr>\n",
       "      <th>0</th>\n",
       "      <td>67.0</td>\n",
       "      <td>0</td>\n",
       "      <td>1</td>\n",
       "      <td>228.69</td>\n",
       "      <td>36.6</td>\n",
       "      <td>1</td>\n",
       "      <td>1</td>\n",
       "      <td>0</td>\n",
       "      <td>0</td>\n",
       "      <td>1</td>\n",
       "      <td>0</td>\n",
       "    </tr>\n",
       "    <tr>\n",
       "      <th>1</th>\n",
       "      <td>61.0</td>\n",
       "      <td>0</td>\n",
       "      <td>0</td>\n",
       "      <td>202.21</td>\n",
       "      <td>28.4</td>\n",
       "      <td>1</td>\n",
       "      <td>0</td>\n",
       "      <td>1</td>\n",
       "      <td>1</td>\n",
       "      <td>0</td>\n",
       "      <td>0</td>\n",
       "    </tr>\n",
       "    <tr>\n",
       "      <th>2</th>\n",
       "      <td>80.0</td>\n",
       "      <td>0</td>\n",
       "      <td>1</td>\n",
       "      <td>105.92</td>\n",
       "      <td>32.5</td>\n",
       "      <td>1</td>\n",
       "      <td>1</td>\n",
       "      <td>0</td>\n",
       "      <td>1</td>\n",
       "      <td>0</td>\n",
       "      <td>0</td>\n",
       "    </tr>\n",
       "    <tr>\n",
       "      <th>3</th>\n",
       "      <td>49.0</td>\n",
       "      <td>0</td>\n",
       "      <td>0</td>\n",
       "      <td>171.23</td>\n",
       "      <td>34.4</td>\n",
       "      <td>1</td>\n",
       "      <td>0</td>\n",
       "      <td>1</td>\n",
       "      <td>0</td>\n",
       "      <td>0</td>\n",
       "      <td>1</td>\n",
       "    </tr>\n",
       "    <tr>\n",
       "      <th>4</th>\n",
       "      <td>79.0</td>\n",
       "      <td>1</td>\n",
       "      <td>0</td>\n",
       "      <td>174.12</td>\n",
       "      <td>24.0</td>\n",
       "      <td>1</td>\n",
       "      <td>0</td>\n",
       "      <td>1</td>\n",
       "      <td>1</td>\n",
       "      <td>0</td>\n",
       "      <td>0</td>\n",
       "    </tr>\n",
       "  </tbody>\n",
       "</table>\n",
       "</div>"
      ],
      "text/plain": [
       "    age  hypertension  heart_disease  avg_glucose_level   bmi  stroke  male  \\\n",
       "0  67.0             0              1             228.69  36.6       1     1   \n",
       "1  61.0             0              0             202.21  28.4       1     0   \n",
       "2  80.0             0              1             105.92  32.5       1     1   \n",
       "3  49.0             0              0             171.23  34.4       1     0   \n",
       "4  79.0             1              0             174.12  24.0       1     0   \n",
       "\n",
       "   female  never_moked  formerly_smoked  smokes  \n",
       "0       0            0                1       0  \n",
       "1       1            1                0       0  \n",
       "2       0            1                0       0  \n",
       "3       1            0                0       1  \n",
       "4       1            1                0       0  "
      ]
     },
     "execution_count": 24,
     "metadata": {},
     "output_type": "execute_result"
    }
   ],
   "source": [
    "veri.head()"
   ]
  },
  {
   "cell_type": "code",
   "execution_count": 25,
   "id": "78e8f399",
   "metadata": {},
   "outputs": [
    {
     "data": {
      "text/plain": [
       "Index(['age', 'hypertension', 'heart_disease', 'avg_glucose_level', 'bmi',\n",
       "       'stroke', 'male', 'female', 'never_moked', 'formerly_smoked', 'smokes'],\n",
       "      dtype='object')"
      ]
     },
     "execution_count": 25,
     "metadata": {},
     "output_type": "execute_result"
    }
   ],
   "source": [
    "veri.columns"
   ]
  },
  {
   "cell_type": "markdown",
   "id": "376062a9",
   "metadata": {},
   "source": [
    "### O4. Veriyi min-max normalizasyonu ile normalleştirin. Bunun sonucunda her kolonda değerler 0-1 arasinda yer alacaktır (10p)."
   ]
  },
  {
   "cell_type": "code",
   "execution_count": 26,
   "id": "2e405a4f",
   "metadata": {},
   "outputs": [],
   "source": [
    "norm_columns = [\"age\",'avg_glucose_level', 'bmi']"
   ]
  },
  {
   "cell_type": "code",
   "execution_count": 27,
   "id": "d0ca3cae",
   "metadata": {},
   "outputs": [],
   "source": [
    "for i in norm_columns :\n",
    "    veri[i] = (veri[i] - veri[i].min()) / (veri[i].max() - veri[i].min())"
   ]
  },
  {
   "cell_type": "code",
   "execution_count": 28,
   "id": "101a83bd",
   "metadata": {},
   "outputs": [
    {
     "data": {
      "text/html": [
       "<div>\n",
       "<style scoped>\n",
       "    .dataframe tbody tr th:only-of-type {\n",
       "        vertical-align: middle;\n",
       "    }\n",
       "\n",
       "    .dataframe tbody tr th {\n",
       "        vertical-align: top;\n",
       "    }\n",
       "\n",
       "    .dataframe thead th {\n",
       "        text-align: right;\n",
       "    }\n",
       "</style>\n",
       "<table border=\"1\" class=\"dataframe\">\n",
       "  <thead>\n",
       "    <tr style=\"text-align: right;\">\n",
       "      <th></th>\n",
       "      <th>age</th>\n",
       "      <th>hypertension</th>\n",
       "      <th>heart_disease</th>\n",
       "      <th>avg_glucose_level</th>\n",
       "      <th>bmi</th>\n",
       "      <th>stroke</th>\n",
       "      <th>male</th>\n",
       "      <th>female</th>\n",
       "      <th>never_moked</th>\n",
       "      <th>formerly_smoked</th>\n",
       "      <th>smokes</th>\n",
       "    </tr>\n",
       "  </thead>\n",
       "  <tbody>\n",
       "    <tr>\n",
       "      <th>0</th>\n",
       "      <td>0.791667</td>\n",
       "      <td>0</td>\n",
       "      <td>1</td>\n",
       "      <td>0.801265</td>\n",
       "      <td>0.311801</td>\n",
       "      <td>1</td>\n",
       "      <td>1</td>\n",
       "      <td>0</td>\n",
       "      <td>0</td>\n",
       "      <td>1</td>\n",
       "      <td>0</td>\n",
       "    </tr>\n",
       "    <tr>\n",
       "      <th>1</th>\n",
       "      <td>0.708333</td>\n",
       "      <td>0</td>\n",
       "      <td>0</td>\n",
       "      <td>0.679023</td>\n",
       "      <td>0.209938</td>\n",
       "      <td>1</td>\n",
       "      <td>0</td>\n",
       "      <td>1</td>\n",
       "      <td>1</td>\n",
       "      <td>0</td>\n",
       "      <td>0</td>\n",
       "    </tr>\n",
       "    <tr>\n",
       "      <th>2</th>\n",
       "      <td>0.972222</td>\n",
       "      <td>0</td>\n",
       "      <td>1</td>\n",
       "      <td>0.234512</td>\n",
       "      <td>0.260870</td>\n",
       "      <td>1</td>\n",
       "      <td>1</td>\n",
       "      <td>0</td>\n",
       "      <td>1</td>\n",
       "      <td>0</td>\n",
       "      <td>0</td>\n",
       "    </tr>\n",
       "    <tr>\n",
       "      <th>3</th>\n",
       "      <td>0.541667</td>\n",
       "      <td>0</td>\n",
       "      <td>0</td>\n",
       "      <td>0.536008</td>\n",
       "      <td>0.284472</td>\n",
       "      <td>1</td>\n",
       "      <td>0</td>\n",
       "      <td>1</td>\n",
       "      <td>0</td>\n",
       "      <td>0</td>\n",
       "      <td>1</td>\n",
       "    </tr>\n",
       "    <tr>\n",
       "      <th>4</th>\n",
       "      <td>0.958333</td>\n",
       "      <td>1</td>\n",
       "      <td>0</td>\n",
       "      <td>0.549349</td>\n",
       "      <td>0.155280</td>\n",
       "      <td>1</td>\n",
       "      <td>0</td>\n",
       "      <td>1</td>\n",
       "      <td>1</td>\n",
       "      <td>0</td>\n",
       "      <td>0</td>\n",
       "    </tr>\n",
       "  </tbody>\n",
       "</table>\n",
       "</div>"
      ],
      "text/plain": [
       "        age  hypertension  heart_disease  avg_glucose_level       bmi  stroke  \\\n",
       "0  0.791667             0              1           0.801265  0.311801       1   \n",
       "1  0.708333             0              0           0.679023  0.209938       1   \n",
       "2  0.972222             0              1           0.234512  0.260870       1   \n",
       "3  0.541667             0              0           0.536008  0.284472       1   \n",
       "4  0.958333             1              0           0.549349  0.155280       1   \n",
       "\n",
       "   male  female  never_moked  formerly_smoked  smokes  \n",
       "0     1       0            0                1       0  \n",
       "1     0       1            1                0       0  \n",
       "2     1       0            1                0       0  \n",
       "3     0       1            0                0       1  \n",
       "4     0       1            1                0       0  "
      ]
     },
     "execution_count": 28,
     "metadata": {},
     "output_type": "execute_result"
    }
   ],
   "source": [
    "veri.head()"
   ]
  },
  {
   "cell_type": "markdown",
   "id": "4de16b95",
   "metadata": {},
   "source": [
    "# O5. Veri setinin satirlarini random olarak karıştırdiktan sonra veri setininin %70’ini eğitim seti, %30’unu test seti olarak alın. Test setindeki örneklerin her birinin tüm eğitim seti örnekleri ile olan iç çarpımını hesaplayın. Hatırlarsak iki vektörün iç çarpımı bu iki vektörün birbirine ne kadar benzediğini verir. En yüksek iç çarpımı veren 3 adet eğitim örneğini bularak bu örneklerde en yaygın sınıfı o test örneği için tahmin edilen sınıf olarak bulun. Sonucun başarısını hesaplayın (test setinin tamamı için bir başarı oranı verin) (10p).\n"
   ]
  },
  {
   "cell_type": "code",
   "execution_count": 29,
   "id": "33a4210f",
   "metadata": {},
   "outputs": [],
   "source": [
    "test_data=np.array(veri)\n",
    "toplamornek= veri.shape[0] \n",
    "random=np.random.permutation(veri.shape[0])\n",
    "test_data=test_data[random,:]"
   ]
  },
  {
   "cell_type": "code",
   "execution_count": 30,
   "id": "b173249f",
   "metadata": {},
   "outputs": [],
   "source": [
    "train_X=test_data[:int(toplamornek*0.7),:-1]\n",
    "train_y=test_data[:int(toplamornek*0.7),-1]\n",
    "\n",
    "test_X=test_data[int(toplamornek*0.7):,:-1]\n",
    "test_y=test_data[int(toplamornek*0.7):,-1]"
   ]
  },
  {
   "cell_type": "code",
   "execution_count": 31,
   "id": "5b5c58d9",
   "metadata": {},
   "outputs": [
    {
     "name": "stdout",
     "output_type": "stream",
     "text": [
      "(2495, 10) (2495,) (1070, 10) (1070,)\n"
     ]
    }
   ],
   "source": [
    "print(train_X.shape,train_y.shape,test_X.shape,test_y.shape)"
   ]
  },
  {
   "cell_type": "code",
   "execution_count": 32,
   "id": "7277f1bb",
   "metadata": {},
   "outputs": [],
   "source": [
    "def basari_hesapla(tahmin,gercek):\n",
    "    t=0\n",
    "    for i in range(len(tahmin)):\n",
    "        if tahmin[i]==gercek[i]:\n",
    "            t+=1\n",
    "    return (t/len(tahmin))*100"
   ]
  },
  {
   "cell_type": "code",
   "execution_count": 33,
   "id": "d848d1d1",
   "metadata": {},
   "outputs": [],
   "source": [
    "tahminler = []\n",
    "for tX in test_X:\n",
    "    iccarpim = np.dot(train_X,tX)\n",
    "    enyuksekiccarpim = np.argsort(iccarpim)[-3:]\n",
    "    en_yuksek_sinif= pd.Series(train_y[enyuksekiccarpim]).mode()[0]\n",
    "    tahminler.append(en_yuksek_sinif)"
   ]
  },
  {
   "cell_type": "code",
   "execution_count": 34,
   "id": "648e3fb2",
   "metadata": {},
   "outputs": [
    {
     "name": "stdout",
     "output_type": "stream",
     "text": [
      "Başarı Oranı: 82.33644859813084\n"
     ]
    }
   ],
   "source": [
    "basari=basari_hesapla(tahminler,test_y)\n",
    "print(f'Başarı Oranı: {basari}')"
   ]
  },
  {
   "cell_type": "markdown",
   "id": "77ab3ce6",
   "metadata": {},
   "source": [
    "# Seviye Görevler: (15p)\n",
    "# 1.0 Veri setinin satirlarini random olarak karıştırdiktan sonra veri setininin %70’ini eğitim seti, %30’unu test seti olarak alın. Test setindeki örnekleri kNN algoritmasinda ‘Manhattan Uzaklığı’ kullanarak sınıflandırın. (k=3 alın). Sonucun başarısını hesaplayın (test setinin tamamı için bir başarı oranı verin"
   ]
  },
  {
   "cell_type": "code",
   "execution_count": 35,
   "id": "24724d87",
   "metadata": {},
   "outputs": [],
   "source": [
    "def manhattan(point1, point2):\n",
    "    return np.sum(np.abs(point1 - point2))"
   ]
  },
  {
   "cell_type": "code",
   "execution_count": 36,
   "id": "d333ab3c",
   "metadata": {},
   "outputs": [
    {
     "name": "stdout",
     "output_type": "stream",
     "text": [
      "Başarı: 76.72897196261682\n"
     ]
    }
   ],
   "source": [
    "tahminler = np.zeros(test_X.shape[0])\n",
    "for i in range(test_X.shape[0]):\n",
    "    ornek = test_X[i, :]\n",
    "    uzaklik = manhattan(ornek, train_X)\n",
    "    index = np.argsort(uzaklik)\n",
    "    tahminsinif = train_y[index[:3]]\n",
    "    # Başarı hesaplaması\n",
    "    tekrar= 0\n",
    "    tekrar_sayisi = 0\n",
    "    for sinif in set(tahminsinif):\n",
    "        tekrar_sayisi = np.sum(tahminsinif == sinif)\n",
    "        if tekrar > tekrar_sayisi:\n",
    "            tekrar_sayisi = tekrar\n",
    "            tekrar_sayisi = sinif\n",
    "    tahminler[i] = tekrar\n",
    "basari = basari_hesapla(tahminler, train_y)\n",
    "print(f'Başarı: {basari}')"
   ]
  },
  {
   "cell_type": "markdown",
   "id": "aeb87cad",
   "metadata": {},
   "source": [
    "# 2-0. Veri setinin satirlarini random olarak karıştırdiktan sonra veri setininin %70’ini eğitim seti, %30’unu test seti olarak alın. Test setinin sınıf kolonu hariç kolonlarının oluşturduğu matrisi (X_test), eğitim setinin sınıf kolonu hariç kolonlarının oluşturduğu matrisin (X_egitim’in ) transpozu ile çarpın (matris-matris çarpımı). Bu çarpım sonucu ortaya çıkan bu matris, her bir test örneğinin her bir eğitim örneği ile iç çarpımlarını verir. Yani böylece her bir test örneğinin her bir eğitim örnegine ne kadar benzedigini bu çarpım sayesinde direkt öğrenebiliriz. Çarpım sonucu ortaya çıkan bu matrisi kullanarak test örneklerini en yakın komşu algoritması mantığıyla sınıflandırın. Sonucun başarısını hesaplayın (test setinin tamamı için bir başarı oranı verin). (k=3alın)"
   ]
  },
  {
   "cell_type": "code",
   "execution_count": 37,
   "id": "d3a5bb84",
   "metadata": {},
   "outputs": [],
   "source": [
    "train_X_transpoze = train_X.T\n",
    "ic_carpim = np.dot(test_X, train_X_transpoze)"
   ]
  },
  {
   "cell_type": "code",
   "execution_count": 38,
   "id": "1b304cfb",
   "metadata": {},
   "outputs": [
    {
     "name": "stdout",
     "output_type": "stream",
     "text": [
      "başarı oranı: 0.8233644859813084\n"
     ]
    }
   ],
   "source": [
    "k = 3\n",
    "tahminler = []\n",
    "\n",
    "for ic in ic_carpim:\n",
    "    k_index = np.argsort(ic)[-k:]\n",
    "    k_etiket = train_y[k_index]\n",
    "\n",
    "    etiket, sayi = np.unique(k_etiket, return_counts=True)\n",
    "    k_etiket = etiket[np.argmax(sayi)]\n",
    "    \n",
    "    tahminler.append(k_etiket)\n",
    "    \n",
    "dogru_tahminler = np.sum(tahminler == test_y)\n",
    "toplam_test = len(test_y)\n",
    "basari = dogru_tahminler / toplam_test\n",
    "print(f'başarı oranı: {basari}')"
   ]
  },
  {
   "cell_type": "code",
   "execution_count": 39,
   "id": "71ab877a",
   "metadata": {},
   "outputs": [],
   "source": [
    "import warnings\n",
    "warnings.filterwarnings(\"ignore\")"
   ]
  },
  {
   "cell_type": "markdown",
   "id": "9cbab2d8",
   "metadata": {},
   "source": [
    "## 3-0. Veri setinin satirlarini random olarak karıştırdiktan sonra veri setininin %70’ini eğitim seti, %30’unu test seti olarak alın. Daha sonra eğitim setindeki pozitif sınıflara ait örneklerle (satırlarla) negatif sınıflara ait örnekleri birbirinden ayırın. Pozitif eğitim örneklerini, “k-means” algoritması kullanarak 5 gruba (cluster’a) ayırın. Bunun için k-means’i bilmenize gerek yok şöyle bir komut kullanarak bunu başarabilirsiniz:\n",
    "```\n",
    "from sklearn.cluster import KMeans\n",
    "kmeans_pozitif = KMeans(n_clusters = 5, random_state = 0, \n",
    "n_init='auto')\n",
    "kmeans_pozitif.fit(X_egitim_pozitif)\n",
    "```\n",
    "## Buradaki X_egitim_pozitif, satırları egitim örneklerine karşılık gelen bir matris (not bu matriste sınıf kolonu yok). Bu noktadan sonra kmeans.labels_ komutu her bir eğitim örneğinin ait olduğu grubu veren bir listeye döner. \n",
    "```\n",
    "kmeans_pozitif.cluster_centers_\n",
    "```\n",
    "## komutu pozitif örneklerin oluşturduğu grupların grup merkezlerini verir. Yukarıdaki adımları tekrar ederek bu sefer negatif eğitim örnekleri için 5 adet grup ve bu gruplara ait grup merkezlerini bulun. Artık elimizde pozitif örneklerden gelen 5 adet merkez, negatif örneklerden gelen 5 adet merkez bulunmaktadır. Bu merkezleri birleştirerek 5’i pozitif, 5’i negatif sinifa ait 10 örneklik yeni bir eğitim seti oluşturun. Test örneklerini bu yeni egitim setini kullanarak kNN ile sınıflandırın (k=3 alın, öklid kullanın). Sonucun başarısını hesaplayın (test setinin tamamı için bir başarı oranı verin)"
   ]
  },
  {
   "cell_type": "code",
   "execution_count": 40,
   "id": "7ca6eb72",
   "metadata": {},
   "outputs": [],
   "source": [
    "from sklearn.cluster import KMeans"
   ]
  },
  {
   "cell_type": "code",
   "execution_count": 41,
   "id": "898734db",
   "metadata": {},
   "outputs": [],
   "source": [
    "pozitif = train_X[train_y == 1]\n",
    "negatif = train_X[train_y == 0]\n",
    "\n",
    "k = 5\n",
    "pozitif_k = KMeans(n_clusters=k, random_state=0, n_init='auto')\n",
    "pozitif_k.fit(pozitif)\n",
    "pozitif_center = pozitif_k.cluster_centers_\n",
    "\n",
    "negatif_k = KMeans(n_clusters=k, random_state=0, n_init='auto')\n",
    "negatif_k.fit(negatif)\n",
    "negatif_center = negatif_k.cluster_centers_"
   ]
  },
  {
   "cell_type": "code",
   "execution_count": 42,
   "id": "ecdce60f",
   "metadata": {},
   "outputs": [],
   "source": [
    "new_train = np.concatenate((pozitif_center, negatif_center), axis=0)"
   ]
  },
  {
   "cell_type": "code",
   "execution_count": 43,
   "id": "b963aaa0",
   "metadata": {},
   "outputs": [],
   "source": [
    "def uzaklik_hesapla(ornek,matris):\n",
    "    uzakliklar=np.zeros(matris.shape[0])\n",
    "    for i in range(matris.shape[0]):\n",
    "        uzakliklar[i]=np.sqrt(np.sum((ornek-matris[i,:])**2))\n",
    "    return uzakliklar"
   ]
  },
  {
   "cell_type": "code",
   "execution_count": 44,
   "id": "eefdb03c",
   "metadata": {},
   "outputs": [],
   "source": [
    "def basari_hesapla(tahmin,gercek):\n",
    "    t=0\n",
    "    for i in range(len(tahmin)):\n",
    "        if tahmin[i]==gercek[i]:\n",
    "            t+=1\n",
    "    return (t/len(tahmin))*100"
   ]
  },
  {
   "cell_type": "code",
   "execution_count": 46,
   "id": "cbaf8b59",
   "metadata": {},
   "outputs": [
    {
     "name": "stdout",
     "output_type": "stream",
     "text": [
      "Başarı: 100.0\n"
     ]
    }
   ],
   "source": [
    "tahmin =np.zeros(test_X.shape[0])\n",
    "for i in range(test_X.shape[0]):\n",
    "    ornek = test_X[i, :]\n",
    "    uzakliklar = uzaklik_hesapla(ornek, train_X)\n",
    "    yakindan_uzaga_indisler = np.argsort(uzakliklar)\n",
    "    tahmin = train_y[yakindan_uzaga_indisler[:3]]\n",
    "    \n",
    "    tekrar = 0\n",
    "    tekrak_no = 0\n",
    "\n",
    "    for sinif in set(tahmin):\n",
    "        tekrar = np.sum(tahmin == sinif)\n",
    "        if tekrar > tekrak_no:\n",
    "            tekrak_no = tekrar\n",
    "            tekrak_no = sinif\n",
    "    \n",
    "    tahminler[i] = tekrak_no\n",
    "\n",
    "basari = basari_hesapla(tahminler, test_y)\n",
    "print(f'Başarı: {basari}')"
   ]
  },
  {
   "cell_type": "code",
   "execution_count": null,
   "id": "63f1e77c",
   "metadata": {},
   "outputs": [],
   "source": []
  }
 ],
 "metadata": {
  "kernelspec": {
   "display_name": "Python 3 (ipykernel)",
   "language": "python",
   "name": "python3"
  },
  "language_info": {
   "codemirror_mode": {
    "name": "ipython",
    "version": 3
   },
   "file_extension": ".py",
   "mimetype": "text/x-python",
   "name": "python",
   "nbconvert_exporter": "python",
   "pygments_lexer": "ipython3",
   "version": "3.9.13"
  }
 },
 "nbformat": 4,
 "nbformat_minor": 5
}
